{
 "cells": [
  {
   "cell_type": "markdown",
   "metadata": {},
   "source": [
    "# Credit Risk Assessment: Advanced Model Optimization\n",
    "This script extends our previous analysis by implementing a more comprehensive model selection strategy using GridSearchCV."
   ]
  },
  {
   "cell_type": "markdown",
   "metadata": {},
   "source": [
    "## Key Differences from BruteForce Approach:\n",
    "1. Simultaneous optimization of multiple hyperparameters\n",
    "2. Cross-validation instead of single validation set\n",
    "3. Parallel processing for faster computation\n",
    "4. More extensive hyperparameter search space"
   ]
  },
  {
   "cell_type": "markdown",
   "metadata": {},
   "source": [
    "## Import Libraries"
   ]
  },
  {
   "cell_type": "code",
   "execution_count": 19,
   "metadata": {},
   "outputs": [],
   "source": [
    "import pandas as pd\n",
    "from sklearn.impute import SimpleImputer\n",
    "from sklearn.metrics import confusion_matrix, classification_report\n",
    "from sklearn.ensemble import RandomForestClassifier\n",
    "from sklearn.model_selection import GridSearchCV\n",
    "import matplotlib.pyplot as plt\n",
    "import seaborn as sns"
   ]
  },
  {
   "cell_type": "markdown",
   "metadata": {},
   "source": [
    "## Data Preprocessing\n",
    "\n",
    "First, we analyze the extent of our missing data problem:\n",
    "- Identify which columns have missing values\n",
    "- Calculate percentage of affected rows\n",
    "- Determine if row deletion is feasible\n",
    "\n",
    "This deeper analysis helps validate our imputation strategy."
   ]
  },
  {
   "cell_type": "code",
   "execution_count": 2,
   "metadata": {},
   "outputs": [
    {
     "data": {
      "text/html": [
       "<div>\n",
       "<style scoped>\n",
       "    .dataframe tbody tr th:only-of-type {\n",
       "        vertical-align: middle;\n",
       "    }\n",
       "\n",
       "    .dataframe tbody tr th {\n",
       "        vertical-align: top;\n",
       "    }\n",
       "\n",
       "    .dataframe thead th {\n",
       "        text-align: right;\n",
       "    }\n",
       "</style>\n",
       "<table border=\"1\" class=\"dataframe\">\n",
       "  <thead>\n",
       "    <tr style=\"text-align: right;\">\n",
       "      <th></th>\n",
       "      <th>id</th>\n",
       "      <th>SeriousDlqin2yrs</th>\n",
       "      <th>RevolvingUtilizationOfUnsecuredLines</th>\n",
       "      <th>age</th>\n",
       "      <th>NumberOfTime30-59DaysPastDueNotWorse</th>\n",
       "      <th>DebtRatio</th>\n",
       "      <th>MonthlyIncome</th>\n",
       "      <th>NumberOfOpenCreditLinesAndLoans</th>\n",
       "      <th>NumberOfTimes90DaysLate</th>\n",
       "      <th>NumberRealEstateLoansOrLines</th>\n",
       "      <th>NumberOfTime60-89DaysPastDueNotWorse</th>\n",
       "      <th>NumberOfDependents</th>\n",
       "    </tr>\n",
       "  </thead>\n",
       "  <tbody>\n",
       "    <tr>\n",
       "      <th>0</th>\n",
       "      <td>1</td>\n",
       "      <td>1</td>\n",
       "      <td>0.766127</td>\n",
       "      <td>45</td>\n",
       "      <td>2</td>\n",
       "      <td>0.802982</td>\n",
       "      <td>9120.0</td>\n",
       "      <td>13</td>\n",
       "      <td>0</td>\n",
       "      <td>6</td>\n",
       "      <td>0</td>\n",
       "      <td>2.0</td>\n",
       "    </tr>\n",
       "    <tr>\n",
       "      <th>1</th>\n",
       "      <td>2</td>\n",
       "      <td>0</td>\n",
       "      <td>0.957151</td>\n",
       "      <td>40</td>\n",
       "      <td>0</td>\n",
       "      <td>0.121876</td>\n",
       "      <td>2600.0</td>\n",
       "      <td>4</td>\n",
       "      <td>0</td>\n",
       "      <td>0</td>\n",
       "      <td>0</td>\n",
       "      <td>1.0</td>\n",
       "    </tr>\n",
       "    <tr>\n",
       "      <th>2</th>\n",
       "      <td>3</td>\n",
       "      <td>0</td>\n",
       "      <td>0.658180</td>\n",
       "      <td>38</td>\n",
       "      <td>1</td>\n",
       "      <td>0.085113</td>\n",
       "      <td>3042.0</td>\n",
       "      <td>2</td>\n",
       "      <td>1</td>\n",
       "      <td>0</td>\n",
       "      <td>0</td>\n",
       "      <td>0.0</td>\n",
       "    </tr>\n",
       "    <tr>\n",
       "      <th>3</th>\n",
       "      <td>4</td>\n",
       "      <td>0</td>\n",
       "      <td>0.233810</td>\n",
       "      <td>30</td>\n",
       "      <td>0</td>\n",
       "      <td>0.036050</td>\n",
       "      <td>3300.0</td>\n",
       "      <td>5</td>\n",
       "      <td>0</td>\n",
       "      <td>0</td>\n",
       "      <td>0</td>\n",
       "      <td>0.0</td>\n",
       "    </tr>\n",
       "    <tr>\n",
       "      <th>4</th>\n",
       "      <td>5</td>\n",
       "      <td>0</td>\n",
       "      <td>0.907239</td>\n",
       "      <td>49</td>\n",
       "      <td>1</td>\n",
       "      <td>0.024926</td>\n",
       "      <td>63588.0</td>\n",
       "      <td>7</td>\n",
       "      <td>0</td>\n",
       "      <td>1</td>\n",
       "      <td>0</td>\n",
       "      <td>0.0</td>\n",
       "    </tr>\n",
       "  </tbody>\n",
       "</table>\n",
       "</div>"
      ],
      "text/plain": [
       "   id  SeriousDlqin2yrs  RevolvingUtilizationOfUnsecuredLines  age  \\\n",
       "0   1                 1                              0.766127   45   \n",
       "1   2                 0                              0.957151   40   \n",
       "2   3                 0                              0.658180   38   \n",
       "3   4                 0                              0.233810   30   \n",
       "4   5                 0                              0.907239   49   \n",
       "\n",
       "   NumberOfTime30-59DaysPastDueNotWorse  DebtRatio  MonthlyIncome  \\\n",
       "0                                     2   0.802982         9120.0   \n",
       "1                                     0   0.121876         2600.0   \n",
       "2                                     1   0.085113         3042.0   \n",
       "3                                     0   0.036050         3300.0   \n",
       "4                                     1   0.024926        63588.0   \n",
       "\n",
       "   NumberOfOpenCreditLinesAndLoans  NumberOfTimes90DaysLate  \\\n",
       "0                               13                        0   \n",
       "1                                4                        0   \n",
       "2                                2                        1   \n",
       "3                                5                        0   \n",
       "4                                7                        0   \n",
       "\n",
       "   NumberRealEstateLoansOrLines  NumberOfTime60-89DaysPastDueNotWorse  \\\n",
       "0                             6                                     0   \n",
       "1                             0                                     0   \n",
       "2                             0                                     0   \n",
       "3                             0                                     0   \n",
       "4                             1                                     0   \n",
       "\n",
       "   NumberOfDependents  \n",
       "0                 2.0  \n",
       "1                 1.0  \n",
       "2                 0.0  \n",
       "3                 0.0  \n",
       "4                 0.0  "
      ]
     },
     "execution_count": 2,
     "metadata": {},
     "output_type": "execute_result"
    }
   ],
   "source": [
    "data = pd.read_csv(\"cs_data.csv\")\n",
    "data.head()"
   ]
  },
  {
   "cell_type": "code",
   "execution_count": 3,
   "metadata": {},
   "outputs": [
    {
     "data": {
      "text/plain": [
       "id                                          0\n",
       "SeriousDlqin2yrs                            0\n",
       "RevolvingUtilizationOfUnsecuredLines        0\n",
       "age                                         0\n",
       "NumberOfTime30-59DaysPastDueNotWorse        0\n",
       "DebtRatio                                   0\n",
       "MonthlyIncome                           29731\n",
       "NumberOfOpenCreditLinesAndLoans             0\n",
       "NumberOfTimes90DaysLate                     0\n",
       "NumberRealEstateLoansOrLines                0\n",
       "NumberOfTime60-89DaysPastDueNotWorse        0\n",
       "NumberOfDependents                       3924\n",
       "dtype: int64"
      ]
     },
     "execution_count": 3,
     "metadata": {},
     "output_type": "execute_result"
    }
   ],
   "source": [
    "data.isnull().sum()"
   ]
  },
  {
   "cell_type": "code",
   "execution_count": 4,
   "metadata": {},
   "outputs": [
    {
     "name": "stdout",
     "output_type": "stream",
     "text": [
      "Number of rows with NaN values: 29731\n",
      "Proportion of rows with NaN values: 19.82%\n"
     ]
    }
   ],
   "source": [
    "# Count the number of rows with NaN values\n",
    "num_rows_with_nan = data.isna().any(axis=1).sum()\n",
    "\n",
    "# Compute the proportion of rows with NaN values\n",
    "proportion_with_nan = num_rows_with_nan / len(data)\n",
    "\n",
    "print(f\"Number of rows with NaN values: {num_rows_with_nan}\")\n",
    "print(f\"Proportion of rows with NaN values: {proportion_with_nan:.2%}\")\n"
   ]
  },
  {
   "cell_type": "markdown",
   "metadata": {},
   "source": [
    "### Missing Value Strategy\n",
    "\n",
    "We maintain the median imputation approach because:\n",
    "- Simple and computationally efficient\n",
    "- Robust to outliers\n",
    "- Preserves data distribution\n",
    "- Suitable for our feature types"
   ]
  },
  {
   "cell_type": "code",
   "execution_count": 5,
   "metadata": {},
   "outputs": [
    {
     "data": {
      "text/plain": [
       "id                                      0\n",
       "SeriousDlqin2yrs                        0\n",
       "RevolvingUtilizationOfUnsecuredLines    0\n",
       "age                                     0\n",
       "NumberOfTime30-59DaysPastDueNotWorse    0\n",
       "DebtRatio                               0\n",
       "MonthlyIncome                           0\n",
       "NumberOfOpenCreditLinesAndLoans         0\n",
       "NumberOfTimes90DaysLate                 0\n",
       "NumberRealEstateLoansOrLines            0\n",
       "NumberOfTime60-89DaysPastDueNotWorse    0\n",
       "NumberOfDependents                      0\n",
       "dtype: int64"
      ]
     },
     "execution_count": 5,
     "metadata": {},
     "output_type": "execute_result"
    }
   ],
   "source": [
    "imputer = SimpleImputer(strategy='median')\n",
    "dfv=imputer.fit_transform(data.values)\n",
    "data=pd.DataFrame(data=dfv, columns=data.columns)\n",
    "data.isnull().sum()"
   ]
  },
  {
   "cell_type": "markdown",
   "metadata": {},
   "source": [
    "### Data Imbalance Verification\n",
    "We perform a thorough class balance analysis to:\n",
    "- Confirm exact class proportions\n",
    "- Visualize class distribution\n",
    "- Inform our model evaluation strategy"
   ]
  },
  {
   "cell_type": "code",
   "execution_count": 6,
   "metadata": {},
   "outputs": [
    {
     "data": {
      "text/plain": [
       "<Axes: >"
      ]
     },
     "execution_count": 6,
     "metadata": {},
     "output_type": "execute_result"
    },
    {
     "data": {
      "image/png": "[encoded data removed]",
      "text/plain": [
       "<Figure size 640x480 with 1 Axes>"
      ]
     },
     "metadata": {},
     "output_type": "display_data"
    }
   ],
   "source": [
    "data['SeriousDlqin2yrs'].hist()"
   ]
  },
  {
   "cell_type": "code",
   "execution_count": 7,
   "metadata": {},
   "outputs": [
    {
     "name": "stdout",
     "output_type": "stream",
     "text": [
      "SeriousDlqin2yrs\n",
      "0.0    139974\n",
      "1.0     10026\n",
      "Name: count, dtype: int64\n"
     ]
    }
   ],
   "source": [
    "print(data['SeriousDlqin2yrs'].value_counts())"
   ]
  },
  {
   "cell_type": "markdown",
   "metadata": {},
   "source": [
    "### Train Test Split\n",
    "\n",
    "Validation is not necessarry because it is handled in the Cross Validation within GridSearchCV"
   ]
  },
  {
   "cell_type": "code",
   "execution_count": 8,
   "metadata": {},
   "outputs": [],
   "source": [
    "# Split the data into X and y, where y is our classification target\n",
    "X = data.drop('SeriousDlqin2yrs', axis=1)\n",
    "y = data['SeriousDlqin2yrs']\n"
   ]
  },
  {
   "cell_type": "code",
   "execution_count": 9,
   "metadata": {},
   "outputs": [],
   "source": [
    "# convert the data to numpy arrays\n",
    "X = X.values\n",
    "y = y.values"
   ]
  },
  {
   "cell_type": "code",
   "execution_count": 10,
   "metadata": {},
   "outputs": [
    {
     "name": "stdout",
     "output_type": "stream",
     "text": [
      "train: (120000, 11) (120000,)\n",
      "test: (30000, 11) (30000,)\n"
     ]
    }
   ],
   "source": [
    "from sklearn.model_selection import train_test_split\n",
    "\n",
    "X_train, X_test, Y_train, Y_test = train_test_split(X, y, test_size=0.2, random_state=0)\n",
    "\n",
    "print('train:', X_train.shape, Y_train.shape)\n",
    "print('test:', X_test.shape, Y_test.shape)"
   ]
  },
  {
   "cell_type": "markdown",
   "metadata": {},
   "source": [
    "## Model Selection"
   ]
  },
  {
   "cell_type": "markdown",
   "metadata": {},
   "source": [
    "### Custom Scoring Function\n",
    "We implement a custom scorer that:\n",
    "- Uses weighted accuracy for imbalanced data\n",
    "- Maintains consistency with our previous analysis\n",
    "- Allows fair model comparison"
   ]
  },
  {
   "cell_type": "code",
   "execution_count": 11,
   "metadata": {},
   "outputs": [],
   "source": [
    "\n",
    "def weighted_accuracy(confusion):\n",
    "    #input: confusion is the confusion matrix\n",
    "    #output: acc is the weighted classification accuracy\n",
    "    M=confusion.copy().astype('float32')\n",
    "    for k in range(0, M.shape[0]):\n",
    "        M[k]/=M[k].sum()+1e-8    \n",
    "    acc = M.diagonal().sum()/M.sum()\n",
    "    return acc\n",
    "\n",
    "def my_scorer(model, X, Y_true):\n",
    "    Y_pred = model.predict(X)\n",
    "    confusion=confusion_matrix(Y_true, Y_pred)\n",
    "    acc=weighted_accuracy(confusion)\n",
    "    return acc"
   ]
  },
  {
   "cell_type": "markdown",
   "metadata": {},
   "source": [
    "### GridSearchCV Implementation\n",
    "Our grid search explores multiple hyperparameters simultaneously:\n",
    "\n",
    "1. max_depth: [1, 10, 100]\n",
    "   - Tests shallow, medium, and deep trees\n",
    "   - Logarithmic scale for efficient search\n",
    "\n",
    "2. min_samples_split: [2, 5, 10]\n",
    "   - Controls node splitting criteria\n",
    "   - Affects tree complexity and overfitting\n",
    "\n",
    "3. min_samples_leaf: [1, 5, 10]\n",
    "   - Ensures minimum samples in leaf nodes\n",
    "   - Helps prevent overfitting on minority class\n",
    "\n",
    "4. max_features: ['sqrt', 'log2', None]\n",
    "   - Controls feature subset size for splits\n",
    "   - Affects tree diversity in forest\n",
    "\n",
    "5. max_samples: [0.1, 0.5, 0.9]\n",
    "   - Controls bootstrap sample size\n",
    "   - Impacts model variance and robustness"
   ]
  },
  {
   "cell_type": "code",
   "execution_count": 12,
   "metadata": {},
   "outputs": [],
   "source": [
    "# Define the hyperparameter grid\n",
    "param_grid = {\n",
    "    'max_depth': [1, 10, 100],\n",
    "    \"min_samples_split\": [2, 5, 10],\n",
    "    \"min_samples_leaf\": [1, 5, 10],\n",
    "    \"max_features\": ['sqrt', 'log2', None],\n",
    "    \"max_samples\": [0.1, 0.5, 0.9]\n",
    "}\n",
    "\n",
    "grid_search = GridSearchCV(RandomForestClassifier(n_estimators=20, class_weight='balanced'), \n",
    "                           param_grid=param_grid, \n",
    "                           cv=5,\n",
    "                           scoring=my_scorer,\n",
    "                           n_jobs=4)\n",
    "\n"
   ]
  },
  {
   "cell_type": "code",
   "execution_count": 14,
   "metadata": {},
   "outputs": [
    {
     "name": "stdout",
     "output_type": "stream",
     "text": [
      "Best parameters: {'max_depth': 10, 'max_features': 'log2', 'max_samples': 0.9, 'min_samples_leaf': 10, 'min_samples_split': 2}\n",
      "Best cross-validation score: 0.78\n"
     ]
    }
   ],
   "source": [
    "grid_search.fit(X_train, Y_train)\n",
    "\n",
    "print(f\"Best parameters: {grid_search.best_params_}\")\n",
    "print(f\"Best cross-validation score: {grid_search.best_score_:.2f}\")\n"
   ]
  },
  {
   "cell_type": "markdown",
   "metadata": {},
   "source": [
    "## Detailed GridSearchCV Results Analysis\n",
    "\n",
    "### 1. Extracting and Analyzing Cross-Validation Results\n",
    "We'll examine:\n",
    "- Performance distribution across folds\n",
    "- Parameter impact on model performance\n",
    "- Model stability analysis"
   ]
  },
  {
   "cell_type": "code",
   "execution_count": 17,
   "metadata": {},
   "outputs": [
    {
     "name": "stdout",
     "output_type": "stream",
     "text": [
      "Top 5 Parameter Combinations:\n",
      "                                                params  mean_test_score  \\\n",
      "132  {'max_depth': 10, 'max_features': 'log2', 'max...         0.780576   \n",
      "105  {'max_depth': 10, 'max_features': 'sqrt', 'max...         0.780401   \n",
      "133  {'max_depth': 10, 'max_features': 'log2', 'max...         0.780341   \n",
      "107  {'max_depth': 10, 'max_features': 'sqrt', 'max...         0.780160   \n",
      "134  {'max_depth': 10, 'max_features': 'log2', 'max...         0.779541   \n",
      "\n",
      "     std_test_score  \n",
      "132        0.007177  \n",
      "105        0.005103  \n",
      "133        0.006079  \n",
      "107        0.005636  \n",
      "134        0.003777  \n",
      "\n",
      "Performance Statistics:\n",
      "Best Score: 0.7806\n",
      "Score Range: 0.2279\n",
      "Score Standard Deviation: 0.0520\n"
     ]
    }
   ],
   "source": [
    "# Get detailed CV results\n",
    "cv_results = pd.DataFrame(grid_search.cv_results_)\n",
    "\n",
    "# Display top 5 parameter combinations\n",
    "print(\"Top 5 Parameter Combinations:\")\n",
    "best_results = cv_results.nlargest(5, 'mean_test_score')\n",
    "print(best_results[['params', 'mean_test_score', 'std_test_score']])\n",
    "\n",
    "# Calculate performance spread\n",
    "print(\"\\nPerformance Statistics:\")\n",
    "print(f\"Best Score: {grid_search.best_score_:.4f}\")\n",
    "print(f\"Score Range: {cv_results['mean_test_score'].max() - cv_results['mean_test_score'].min():.4f}\")\n",
    "print(f\"Score Standard Deviation: {cv_results['mean_test_score'].std():.4f}\")"
   ]
  },
  {
   "cell_type": "markdown",
   "metadata": {},
   "source": [
    "### 2. Parameter Importance Analysis\n",
    "Visualize how different parameters affect model performance"
   ]
  },
  {
   "cell_type": "code",
   "execution_count": 20,
   "metadata": {},
   "outputs": [
    {
     "data": {
      "image/png": "[encoded data removed]",
      "text/plain": [
       "<Figure size 1500x1000 with 4 Axes>"
      ]
     },
     "metadata": {},
     "output_type": "display_data"
    }
   ],
   "source": [
    "# Create parameter performance plots\n",
    "fig, axes = plt.subplots(2, 2, figsize=(15, 10))\n",
    "\n",
    "# Max depth impact\n",
    "sns.boxplot(data=cv_results, x='param_max_depth', y='mean_test_score', ax=axes[0,0])\n",
    "axes[0,0].set_title('Max Depth vs Score')\n",
    "axes[0,0].set_xlabel('Max Depth')\n",
    "axes[0,0].set_ylabel('Mean CV Score')\n",
    "\n",
    "# Min samples split impact\n",
    "sns.boxplot(data=cv_results, x='param_min_samples_split', y='mean_test_score', ax=axes[0,1])\n",
    "axes[0,1].set_title('Min Samples Split vs Score')\n",
    "axes[0,1].set_xlabel('Min Samples Split')\n",
    "axes[0,1].set_ylabel('Mean CV Score')\n",
    "\n",
    "# Max features impact\n",
    "sns.boxplot(data=cv_results, x='param_max_features', y='mean_test_score', ax=axes[1,0])\n",
    "axes[1,0].set_title('Max Features vs Score')\n",
    "axes[1,0].set_xlabel('Max Features')\n",
    "axes[1,0].set_ylabel('Mean CV Score')\n",
    "\n",
    "# Max samples impact\n",
    "sns.boxplot(data=cv_results, x='param_max_samples', y='mean_test_score', ax=axes[1,1])\n",
    "axes[1,1].set_title('Max Samples vs Score')\n",
    "axes[1,1].set_xlabel('Max Samples')\n",
    "axes[1,1].set_ylabel('Mean CV Score')\n",
    "\n",
    "plt.tight_layout()\n",
    "plt.show()"
   ]
  },
  {
   "cell_type": "markdown",
   "metadata": {},
   "source": [
    "### 3. Model Stability Analysis\n",
    "Examine performance consistency across different parameters"
   ]
  },
  {
   "cell_type": "code",
   "execution_count": 21,
   "metadata": {},
   "outputs": [
    {
     "name": "stdout",
     "output_type": "stream",
     "text": [
      "Parameter Stability Analysis:\n",
      "\n",
      "max_depth performance statistics:\n",
      "                     mean       std\n",
      "param_max_depth                    \n",
      "1                0.745462  0.011578\n",
      "10               0.762388  0.016729\n",
      "100              0.681198  0.063734\n",
      "\n",
      "min_samples_split performance statistics:\n",
      "                             mean       std\n",
      "param_min_samples_split                    \n",
      "2                        0.725587  0.062071\n",
      "5                        0.728994  0.052264\n",
      "10                       0.734466  0.039576\n",
      "\n",
      "max_features performance statistics:\n",
      "                        mean       std\n",
      "param_max_features                    \n",
      "log2                0.734737  0.052145\n",
      "sqrt                0.734812  0.052653\n",
      "\n",
      "max_samples performance statistics:\n",
      "                       mean       std\n",
      "param_max_samples                    \n",
      "0.1                0.721479  0.051178\n",
      "0.5                0.732747  0.052197\n",
      "0.9                0.734822  0.052374\n"
     ]
    }
   ],
   "source": [
    "# Calculate parameter-wise performance statistics\n",
    "param_stats = {\n",
    "    'max_depth': cv_results.groupby('param_max_depth')['mean_test_score'].agg(['mean', 'std']),\n",
    "    'min_samples_split': cv_results.groupby('param_min_samples_split')['mean_test_score'].agg(['mean', 'std']),\n",
    "    'max_features': cv_results.groupby('param_max_features')['mean_test_score'].agg(['mean', 'std']),\n",
    "    'max_samples': cv_results.groupby('param_max_samples')['mean_test_score'].agg(['mean', 'std'])\n",
    "}\n",
    "\n",
    "# Print stability analysis\n",
    "print(\"Parameter Stability Analysis:\")\n",
    "for param, stats in param_stats.items():\n",
    "    print(f\"\\n{param} performance statistics:\")\n",
    "    print(stats)"
   ]
  },
  {
   "cell_type": "markdown",
   "metadata": {},
   "source": [
    "### 4. Final Model Evaluation\n",
    "Compare best model performance with baseline"
   ]
  },
  {
   "cell_type": "code",
   "execution_count": 23,
   "metadata": {},
   "outputs": [
    {
     "data": {
      "image/png": "[encoded data removed]",
      "text/plain": [
       "<Figure size 1000x700 with 2 Axes>"
      ]
     },
     "metadata": {},
     "output_type": "display_data"
    }
   ],
   "source": [
    "# Get best model predictions on test set\n",
    "best_model = grid_search.best_estimator_\n",
    "y_pred = best_model.predict(X_test)\n",
    "\n",
    "# Calculate confusion matrix\n",
    "conf_matrix = confusion_matrix(Y_test, y_pred)\n",
    "# Plot confusion matrix using seaborn\n",
    "plt.figure(figsize=(10, 7))\n",
    "sns.heatmap(conf_matrix, annot=True, fmt='d', cmap='Blues', xticklabels=['No Default', 'Default'], yticklabels=['No Default', 'Default'])\n",
    "plt.xlabel('Predicted')\n",
    "plt.ylabel('Actual')\n",
    "plt.title('Confusion Matrix')\n",
    "plt.show()"
   ]
  },
  {
   "cell_type": "code",
   "execution_count": 24,
   "metadata": {},
   "outputs": [
    {
     "name": "stdout",
     "output_type": "stream",
     "text": [
      "\n",
      "Classification Report:\n",
      "              precision    recall  f1-score   support\n",
      "\n",
      "         0.0       0.98      0.82      0.89     27957\n",
      "         1.0       0.23      0.71      0.35      2043\n",
      "\n",
      "    accuracy                           0.82     30000\n",
      "   macro avg       0.60      0.77      0.62     30000\n",
      "weighted avg       0.92      0.82      0.86     30000\n",
      "\n",
      "\n",
      "Final Weighted Accuracy: 0.7686\n"
     ]
    }
   ],
   "source": [
    "# Calculate and print detailed classification metrics\n",
    "print(\"\\nClassification Report:\")\n",
    "print(classification_report(Y_test, y_pred))\n",
    "\n",
    "# Calculate weighted accuracy using our custom function\n",
    "final_accuracy = weighted_accuracy(conf_matrix)\n",
    "print(f\"\\nFinal Weighted Accuracy: {final_accuracy:.4f}\")"
   ]
  },
  {
   "cell_type": "markdown",
   "metadata": {},
   "source": [
    "### Key Insights from Results\n",
    "\n",
    "1. Parameter Impact:\n",
    "   - Which parameters most strongly influence performance\n",
    "   - Optimal ranges for each parameter\n",
    "   - Parameters with minimal impact\n",
    "\n",
    "2. Model Stability:\n",
    "   - Performance consistency across CV folds\n",
    "   - Parameter combinations with lowest variance\n",
    "   - Reliability of best model selection\n",
    "\n",
    "3. Final Performance:\n",
    "   - Comparison with brute force approach\n",
    "   - Performance on minority class\n",
    "   - Overall model reliability\n",
    "\n",
    "4. Recommendations:\n",
    "   - Suggested parameter ranges for future iterations\n",
    "   - Potential areas for further optimization\n",
    "   - Trade-offs between complexity and performance"
   ]
  },
  {
   "cell_type": "markdown",
   "metadata": {},
   "source": [
    "## Results Analysis and Interpretation\n",
    "\n",
    "### Understanding GridSearchCV Output\n",
    "\n",
    "#### Best Parameters Interpretation\n",
    "The best parameters found represent:\n",
    "- Optimal balance between bias and variance\n",
    "- Most effective model complexity for our dataset\n",
    "- Settings that generalize well across cross-validation folds\n",
    "\n",
    "#### Cross-Validation Score Analysis\n",
    "The best cross-validation score tells us:\n",
    "- Expected model performance on unseen data\n",
    "- Stability of model performance across different data subsets\n",
    "- Comparison point with our brute force approach\n",
    "\n",
    "### Comparing with Brute Force Method\n",
    "Advantages of GridSearchCV approach:\n",
    "1. More thorough parameter space exploration\n",
    "2. Better handling of parameter interactions\n",
    "3. More robust validation through cross-validation\n",
    "4. Automated optimization process\n",
    "\n",
    "### Performance Metrics Deep Dive\n",
    "When interpreting results, consider:\n",
    "- Mean cross-validation score\n",
    "- Score variance across folds\n",
    "- Performance on minority class\n",
    "- Computational cost vs performance gain\n",
    "\n",
    "### Practical Implementation Insights\n",
    "Key takeaways for implementation:\n",
    "1. Parameter ranges can be adjusted based on initial results\n",
    "2. Cross-validation folds can be increased for more reliability\n",
    "3. Parameter grid can be refined around best-performing values\n",
    "4. Computation time vs model performance tradeoff"
   ]
  }
 ],
 "metadata": {
  "kernelspec": {
   "display_name": "Python 3",
   "language": "python",
   "name": "python3"
  },
  "language_info": {
   "codemirror_mode": {
    "name": "ipython",
    "version": 3
   },
   "file_extension": ".py",
   "mimetype": "text/x-python",
   "name": "python",
   "nbconvert_exporter": "python",
   "pygments_lexer": "ipython3",
   "version": "3.12.2"
  }
 },
 "nbformat": 4,
 "nbformat_minor": 2
}
